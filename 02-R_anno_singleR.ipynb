{
 "cells": [
  {
   "cell_type": "code",
   "execution_count": 1,
   "metadata": {
    "vscode": {
     "languageId": "r"
    }
   },
   "outputs": [],
   "source": [
    "my_packages <- c(\"data.table\", \"tidyverse\",\n",
    "                 \"Seurat\", \"SingleR\")\n",
    "pacman::p_load(char = my_packages)\n",
    "\n",
    "tmp <- list()"
   ]
  },
  {
   "cell_type": "markdown",
   "metadata": {},
   "source": [
    "# Load data"
   ]
  },
  {
   "cell_type": "markdown",
   "metadata": {},
   "source": [
    "Ref"
   ]
  },
  {
   "cell_type": "code",
   "execution_count": 14,
   "metadata": {
    "vscode": {
     "languageId": "r"
    }
   },
   "outputs": [],
   "source": [
    "mat_ref <- Matrix::readMM(\"temp/ref_singler.mtx\")"
   ]
  },
  {
   "cell_type": "code",
   "execution_count": 15,
   "metadata": {
    "vscode": {
     "languageId": "r"
    }
   },
   "outputs": [
    {
     "data": {
      "text/html": [
       "<style>\n",
       ".list-inline {list-style: none; margin:0; padding: 0}\n",
       ".list-inline>li {display: inline-block}\n",
       ".list-inline>li:not(:last-child)::after {content: \"\\00b7\"; padding: 0 .5ex}\n",
       "</style>\n",
       "<ol class=list-inline><li>36159</li><li>33538</li></ol>\n"
      ],
      "text/latex": [
       "\\begin{enumerate*}\n",
       "\\item 36159\n",
       "\\item 33538\n",
       "\\end{enumerate*}\n"
      ],
      "text/markdown": [
       "1. 36159\n",
       "2. 33538\n",
       "\n",
       "\n"
      ],
      "text/plain": [
       "[1] 36159 33538"
      ]
     },
     "metadata": {},
     "output_type": "display_data"
    }
   ],
   "source": [
    "dim(mat_ref)"
   ]
  },
  {
   "cell_type": "code",
   "execution_count": 16,
   "metadata": {
    "vscode": {
     "languageId": "r"
    }
   },
   "outputs": [],
   "source": [
    "mat_ref_gene <- fread(\"temp/ref_scibet_gene.csv\", header = F)$V1\n",
    "mat_ref_barcode <- fread(\"temp/ref_scibet_cellbarcode.csv\", header = F)$V1\n",
    "mat_ref_label <- fread(\"temp/ref_scibet_label.csv\", header = F)$V1"
   ]
  },
  {
   "cell_type": "code",
   "execution_count": 43,
   "metadata": {
    "vscode": {
     "languageId": "r"
    }
   },
   "outputs": [
    {
     "data": {
      "text/plain": [
       "mat_ref_label\n",
       "          B         CD4         CD8          DC endothelial  epithelial \n",
       "       1480        3307        6609          87        1701        9466 \n",
       "fibroblasts  macrophage        mast          NK   pericytes      plasma \n",
       "       2761        2969         391        3207         591        2191 \n",
       "       Treg \n",
       "       1399 "
      ]
     },
     "metadata": {},
     "output_type": "display_data"
    }
   ],
   "source": [
    "table(mat_ref_label)"
   ]
  },
  {
   "cell_type": "code",
   "execution_count": 18,
   "metadata": {
    "vscode": {
     "languageId": "r"
    }
   },
   "outputs": [],
   "source": [
    "rownames(mat_ref) <- mat_ref_barcode\n",
    "colnames(mat_ref) <- mat_ref_gene"
   ]
  },
  {
   "cell_type": "code",
   "execution_count": 57,
   "metadata": {
    "vscode": {
     "languageId": "r"
    }
   },
   "outputs": [],
   "source": [
    "mat_ref <- t(mat_ref)"
   ]
  },
  {
   "cell_type": "code",
   "execution_count": 58,
   "metadata": {
    "vscode": {
     "languageId": "r"
    }
   },
   "outputs": [
    {
     "data": {
      "text/plain": [
       "5 x 5 sparse Matrix of class \"dgTMatrix\"\n",
       "            AAACCTGAGTGCGTGA-1 AAACGGGAGCTGCCCA-1 AAAGATGAGTGGACGT-1\n",
       "MIR1302-2HG                  .                  .                  .\n",
       "FAM138A                      .                  .                  .\n",
       "OR4F5                        .                  .                  .\n",
       "AL627309.1                   .                  .                  .\n",
       "AL627309.3                   .                  .                  .\n",
       "            AAAGTAGCACGCCAGT-1 AAATGCCTCTATCCCG-1\n",
       "MIR1302-2HG                  .                  .\n",
       "FAM138A                      .                  .\n",
       "OR4F5                        .                  .\n",
       "AL627309.1                   .                  .\n",
       "AL627309.3                   .                  ."
      ]
     },
     "metadata": {},
     "output_type": "display_data"
    }
   ],
   "source": [
    "mat_ref[1:5,1:5]"
   ]
  },
  {
   "cell_type": "code",
   "execution_count": 20,
   "metadata": {
    "vscode": {
     "languageId": "r"
    }
   },
   "outputs": [
    {
     "data": {
      "text/html": [
       "5.8688889"
      ],
      "text/latex": [
       "5.8688889"
      ],
      "text/markdown": [
       "5.8688889"
      ],
      "text/plain": [
       "[1] 5.868889"
      ]
     },
     "metadata": {},
     "output_type": "display_data"
    }
   ],
   "source": [
    "max(mat_ref[,1])"
   ]
  },
  {
   "cell_type": "markdown",
   "metadata": {},
   "source": [
    "test"
   ]
  },
  {
   "cell_type": "code",
   "execution_count": 13,
   "metadata": {
    "vscode": {
     "languageId": "r"
    }
   },
   "outputs": [],
   "source": [
    "mat_test <- Matrix::readMM(\"temp/adata_hvg_singler.mtx\")"
   ]
  },
  {
   "cell_type": "code",
   "execution_count": 44,
   "metadata": {
    "vscode": {
     "languageId": "r"
    }
   },
   "outputs": [],
   "source": [
    "mat_test_barcode <- fread(\"temp/adata_hvg_scibet_cellbarcode.csv\", header = F)$V1\n",
    "mat_test_gene <- fread(\"temp/adata_hvg_scibet_gene.csv\", header = F)$V1\n",
    "mat_test_cluster <- fread(\"temp/adata_leiden.csv\", header = F)$V1"
   ]
  },
  {
   "cell_type": "code",
   "execution_count": 23,
   "metadata": {
    "vscode": {
     "languageId": "r"
    }
   },
   "outputs": [],
   "source": [
    "rownames(mat_test) <- mat_test_barcode\n",
    "colnames(mat_test) <- mat_test_gene"
   ]
  },
  {
   "cell_type": "code",
   "execution_count": 51,
   "metadata": {
    "vscode": {
     "languageId": "r"
    }
   },
   "outputs": [],
   "source": [
    "mat_test <- t(mat_test)"
   ]
  },
  {
   "cell_type": "code",
   "execution_count": 53,
   "metadata": {
    "vscode": {
     "languageId": "r"
    }
   },
   "outputs": [
    {
     "data": {
      "text/plain": [
       "5 x 5 sparse Matrix of class \"dgTMatrix\"\n",
       "         AAAGAACCAATTGCAC-1 AAAGGATGTCCCTCAT-1 AAAGGTACATTCACCC-1\n",
       "HES4                      .                  .                  .\n",
       "ISG15                     .                  .                  .\n",
       "TNFRSF18                  .                  .                  .\n",
       "TNFRSF4                   .                  .                  .\n",
       "MXRA8                     .                  .                  .\n",
       "         AAAGTGACACCCAAGC-1 AAATGGAGTGACCGTC-1\n",
       "HES4                      .                  .\n",
       "ISG15                     .                  .\n",
       "TNFRSF18                  .                  .\n",
       "TNFRSF4                   .                  .\n",
       "MXRA8                     .                  ."
      ]
     },
     "metadata": {},
     "output_type": "display_data"
    }
   ],
   "source": [
    "mat_test[1:5,1:5]"
   ]
  },
  {
   "cell_type": "code",
   "execution_count": 52,
   "metadata": {
    "vscode": {
     "languageId": "r"
    }
   },
   "outputs": [
    {
     "data": {
      "text/html": [
       "5.5027304"
      ],
      "text/latex": [
       "5.5027304"
      ],
      "text/markdown": [
       "5.5027304"
      ],
      "text/plain": [
       "[1] 5.50273"
      ]
     },
     "metadata": {},
     "output_type": "display_data"
    }
   ],
   "source": [
    "max(mat_test[,1])"
   ]
  },
  {
   "cell_type": "markdown",
   "metadata": {},
   "source": [
    "# SingleR"
   ]
  },
  {
   "cell_type": "code",
   "execution_count": 59,
   "metadata": {
    "vscode": {
     "languageId": "r"
    }
   },
   "outputs": [],
   "source": [
    "prd <- SingleR(test = mat_test, \n",
    "                      labels = mat_ref_label,\n",
    "                      ref = mat_ref, \n",
    "                      clusters = mat_test_cluster, \n",
    "                      fine.tune = TRUE,\n",
    "                      BPPARAM = BiocParallel::SerialParam())"
   ]
  },
  {
   "cell_type": "code",
   "execution_count": 60,
   "metadata": {
    "vscode": {
     "languageId": "r"
    }
   },
   "outputs": [
    {
     "data": {
      "text/plain": [
       "DataFrame with 15 rows and 5 columns\n",
       "                            scores first.labels     tuning.scores      labels\n",
       "                          <matrix>  <character>       <DataFrame> <character>\n",
       "0   0.350358:0.497735:0.498371:...         Treg 0.662048:0.628529        Treg\n",
       "1   0.348419:0.470380:0.519634:...           NK 0.676267:0.641293          NK\n",
       "2   0.267120:0.226457:0.232818:...   epithelial 0.642304:0.353911  epithelial\n",
       "3   0.406855:0.401655:0.409688:...       plasma 0.628460:0.564026      plasma\n",
       "4   0.485358:0.372705:0.377346:...            B 0.635932:0.627876          DC\n",
       "...                            ...          ...               ...         ...\n",
       "10  0.244050:0.222462:0.222575:...   epithelial 0.587579:0.331581  epithelial\n",
       "11  0.322345:0.333000:0.343655:...         mast 0.560949:0.426664        mast\n",
       "12  0.414749:0.454722:0.496620:...          CD8 0.579267:0.564375         CD8\n",
       "13  0.362127:0.298929:0.304515:...   epithelial 0.532428:0.453952  epithelial\n",
       "14  0.309083:0.312625:0.304062:...   macrophage 0.590752:0.459194  macrophage\n",
       "    pruned.labels\n",
       "      <character>\n",
       "0            Treg\n",
       "1              NK\n",
       "2      epithelial\n",
       "3          plasma\n",
       "4              DC\n",
       "...           ...\n",
       "10     epithelial\n",
       "11           mast\n",
       "12            CD8\n",
       "13     epithelial\n",
       "14     macrophage"
      ]
     },
     "metadata": {},
     "output_type": "display_data"
    }
   ],
   "source": [
    "prd"
   ]
  },
  {
   "cell_type": "code",
   "execution_count": 63,
   "metadata": {
    "vscode": {
     "languageId": "r"
    }
   },
   "outputs": [],
   "source": [
    "re_df <- data.frame(\n",
    "    cluster = mat_test_cluster\n",
    ")"
   ]
  },
  {
   "cell_type": "code",
   "execution_count": 65,
   "metadata": {
    "vscode": {
     "languageId": "r"
    }
   },
   "outputs": [
    {
     "data": {
      "text/plain": [
       "\n",
       "        CD8          DC endothelial  epithelial fibroblasts  macrophage \n",
       "       5035       97188       15673      148383       44494       89881 \n",
       "       mast          NK      plasma        Treg \n",
       "      11792      165960      102386      153568 "
      ]
     },
     "metadata": {},
     "output_type": "display_data"
    }
   ],
   "source": [
    "re_df$label <- plyr::mapvalues(re_df$cluster, \n",
    "                                             from = as.character(c(0:14)),\n",
    "                                             to = prd$labels)\n",
    "table(re_df$label)"
   ]
  },
  {
   "cell_type": "markdown",
   "metadata": {},
   "source": [
    "# Save"
   ]
  },
  {
   "cell_type": "code",
   "execution_count": null,
   "metadata": {
    "vscode": {
     "languageId": "r"
    }
   },
   "outputs": [],
   "source": [
    "fwrite(data.frame(label = re_df$label), file = \"Output/02/singler_result.csv\")"
   ]
  },
  {
   "cell_type": "code",
   "execution_count": null,
   "metadata": {
    "vscode": {
     "languageId": "r"
    }
   },
   "outputs": [],
   "source": []
  }
 ],
 "metadata": {
  "kernelspec": {
   "display_name": "R 4.1",
   "language": "R",
   "name": "ir41"
  },
  "language_info": {
   "codemirror_mode": "r",
   "file_extension": ".r",
   "mimetype": "text/x-r-source",
   "name": "R",
   "pygments_lexer": "r",
   "version": "4.1.3"
  }
 },
 "nbformat": 4,
 "nbformat_minor": 2
}
