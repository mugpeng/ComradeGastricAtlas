{
 "cells": [
  {
   "cell_type": "code",
   "execution_count": 3,
   "metadata": {
    "vscode": {
     "languageId": "r"
    }
   },
   "outputs": [],
   "source": [
    "my_packages <- c(\"data.table\", \"tidyverse\",\n",
    "                 \"Seurat\", \"scCATCH\")\n",
    "pacman::p_load(char = my_packages)\n",
    "\n",
    "tmp <- list()"
   ]
  },
  {
   "cell_type": "markdown",
   "metadata": {},
   "source": [
    "# Load data"
   ]
  },
  {
   "cell_type": "code",
   "execution_count": 6,
   "metadata": {
    "vscode": {
     "languageId": "r"
    }
   },
   "outputs": [],
   "source": [
    "mat_test <- Matrix::readMM(\"temp/adata_hvg_singler.mtx\")"
   ]
  },
  {
   "cell_type": "code",
   "execution_count": 7,
   "metadata": {
    "vscode": {
     "languageId": "r"
    }
   },
   "outputs": [],
   "source": [
    "mat_test_barcode <- fread(\"temp/adata_hvg_scibet_cellbarcode.csv\", header = F)$V1\n",
    "mat_test_gene <- fread(\"temp/adata_hvg_scibet_gene.csv\", header = F)$V1\n",
    "mat_test_cluster <- fread(\"temp/adata_leiden.csv\", header = F)$V1"
   ]
  },
  {
   "cell_type": "code",
   "execution_count": null,
   "metadata": {
    "vscode": {
     "languageId": "r"
    }
   },
   "outputs": [],
   "source": [
    "rownames(mat_test) <- mat_test_barcode\n",
    "colnames(mat_test) <- mat_test_gene\n",
    "mat_test <- Matrix::t(mat_test)\n",
    "mat_test[1:5,1:5]"
   ]
  },
  {
   "cell_type": "code",
   "execution_count": 4,
   "metadata": {
    "vscode": {
     "languageId": "r"
    }
   },
   "outputs": [],
   "source": [
    "cv2 <- fread(\"Data/SCSA/cmarkerv2.csv\")"
   ]
  },
  {
   "cell_type": "code",
   "execution_count": 5,
   "metadata": {
    "vscode": {
     "languageId": "r"
    }
   },
   "outputs": [],
   "source": [
    "scmatch_marker <- data.frame(\n",
    "  species = cv2$speciesType,\n",
    "  tissue = cv2$tissueType,\n",
    "  cancer = ifelse(grepl(\"Cancer\", cv2$cellType), \"Cancer\", \"Normal\"),\n",
    "  condition = cv2$cellType,\n",
    "  subtype1 = NA,\n",
    "  subtype2 = NA,\n",
    "  subtpye3 = NA,\n",
    "  celltype = cv2$cellName,\n",
    "  gene = cv2$gene,\n",
    "  resource = cv2$markerResource,\n",
    "  pmid = cv2$PMID \n",
    ")"
   ]
  },
  {
   "cell_type": "code",
   "execution_count": 17,
   "metadata": {
    "vscode": {
     "languageId": "r"
    }
   },
   "outputs": [
    {
     "data": {
      "text/html": [
       "<style>\n",
       ".list-inline {list-style: none; margin:0; padding: 0}\n",
       ".list-inline>li {display: inline-block}\n",
       ".list-inline>li:not(:last-child)::after {content: \"\\00b7\"; padding: 0 .5ex}\n",
       "</style>\n",
       "<ol class=list-inline><li>1175</li><li>11</li></ol>\n"
      ],
      "text/latex": [
       "\\begin{enumerate*}\n",
       "\\item 1175\n",
       "\\item 11\n",
       "\\end{enumerate*}\n"
      ],
      "text/markdown": [
       "1. 1175\n",
       "2. 11\n",
       "\n",
       "\n"
      ],
      "text/plain": [
       "[1] 1175   11"
      ]
     },
     "metadata": {},
     "output_type": "display_data"
    }
   ],
   "source": [
    "scmatch_marker_sel <- scmatch_marker[scmatch_marker$species %in% \"Human\" & scmatch_marker$tissue %in% \"Stomach\",]\n",
    "dim(scmatch_marker_sel)"
   ]
  },
  {
   "cell_type": "markdown",
   "metadata": {},
   "source": [
    "# scCATCH"
   ]
  },
  {
   "cell_type": "code",
   "execution_count": 21,
   "metadata": {
    "vscode": {
     "languageId": "r"
    }
   },
   "outputs": [
    {
     "name": "stderr",
     "output_type": "stream",
     "text": [
      "Warning message in asMethod(object):\n",
      "“sparse->dense coercion: allocating vector of size 18.6 GiB”\n"
     ]
    }
   ],
   "source": [
    "mat_test <- as.matrix(mat_test)"
   ]
  },
  {
   "cell_type": "code",
   "execution_count": 24,
   "metadata": {
    "vscode": {
     "languageId": "r"
    }
   },
   "outputs": [],
   "source": [
    "mat_test_cluster <- as.character(mat_test_cluster)"
   ]
  },
  {
   "cell_type": "code",
   "execution_count": 25,
   "metadata": {
    "vscode": {
     "languageId": "r"
    }
   },
   "outputs": [
    {
     "name": "stderr",
     "output_type": "stream",
     "text": [
      "Warning message in asMethod(object):\n",
      "“sparse->dense coercion: allocating vector of size 18.6 GiB”\n",
      "There are 136 potential marker genes in CellMatch database for Human on Stomach.\n",
      "\n",
      "Warning message in asMethod(object):\n",
      "“sparse->dense coercion: allocating vector of size 18.6 GiB”\n"
     ]
    }
   ],
   "source": [
    "scCATCH_obj <- createscCATCH(data = mat_test, \n",
    "                             cluster = mat_test_cluster)\n",
    "scCATCH_obj1 <- findmarkergene(object = scCATCH_obj, species = \"Human\", marker = cellmatch, tissue = \"Stomach\")\n",
    "scCATCH_obj2 <- findmarkergene(object = scCATCH_obj, species = \"Human\", if_use_custom_marker = TRUE, marker = scmatch_marker_sel)"
   ]
  },
  {
   "cell_type": "code",
   "execution_count": 27,
   "metadata": {
    "vscode": {
     "languageId": "r"
    }
   },
   "outputs": [],
   "source": [
    "scCATCH_obj1 <- findcelltype(scCATCH_obj1)\n"
   ]
  },
  {
   "cell_type": "code",
   "execution_count": 31,
   "metadata": {
    "vscode": {
     "languageId": "r"
    }
   },
   "outputs": [
    {
     "data": {
      "text/html": [
       "<table class=\"dataframe\">\n",
       "<caption>A data.frame: 6 × 6</caption>\n",
       "<thead>\n",
       "\t<tr><th scope=col>cluster</th><th scope=col>cluster_marker</th><th scope=col>cell_type</th><th scope=col>celltype_score</th><th scope=col>celltype_related_marker</th><th scope=col>PMID</th></tr>\n",
       "\t<tr><th scope=col>&lt;chr&gt;</th><th scope=col>&lt;chr&gt;</th><th scope=col>&lt;chr&gt;</th><th scope=col>&lt;dbl&gt;</th><th scope=col>&lt;chr&gt;</th><th scope=col>&lt;chr&gt;</th></tr>\n",
       "</thead>\n",
       "<tbody>\n",
       "\t<tr><td>12</td><td>ASPM               </td><td>Progenitor Cell    </td><td>0.58</td><td>ASPM          </td><td>26178168</td></tr>\n",
       "\t<tr><td>14</td><td>MAML2, OLR1, RASSF3</td><td>Pit Progenitor Cell</td><td>0.61</td><td>OLR1, RASSF3  </td><td>29802404</td></tr>\n",
       "\t<tr><td>7 </td><td>CFH, PPP1R14A      </td><td>Progenitor Cell    </td><td>0.58</td><td>CFH, PPP1R14A </td><td>29802404</td></tr>\n",
       "\t<tr><td>4 </td><td>BCL11A             </td><td>Progenitor Cell    </td><td>0.50</td><td>BCL11A        </td><td>29802404</td></tr>\n",
       "\t<tr><td>11</td><td>ANXA1, SLC24A3     </td><td>Progenitor Cell    </td><td>0.58</td><td>ANXA1, SLC24A3</td><td>29802404</td></tr>\n",
       "\t<tr><td>9 </td><td>TCIM               </td><td>Progenitor Cell    </td><td>0.50</td><td>TCIM          </td><td>29802404</td></tr>\n",
       "</tbody>\n",
       "</table>\n"
      ],
      "text/latex": [
       "A data.frame: 6 × 6\n",
       "\\begin{tabular}{llllll}\n",
       " cluster & cluster\\_marker & cell\\_type & celltype\\_score & celltype\\_related\\_marker & PMID\\\\\n",
       " <chr> & <chr> & <chr> & <dbl> & <chr> & <chr>\\\\\n",
       "\\hline\n",
       "\t 12 & ASPM                & Progenitor Cell     & 0.58 & ASPM           & 26178168\\\\\n",
       "\t 14 & MAML2, OLR1, RASSF3 & Pit Progenitor Cell & 0.61 & OLR1, RASSF3   & 29802404\\\\\n",
       "\t 7  & CFH, PPP1R14A       & Progenitor Cell     & 0.58 & CFH, PPP1R14A  & 29802404\\\\\n",
       "\t 4  & BCL11A              & Progenitor Cell     & 0.50 & BCL11A         & 29802404\\\\\n",
       "\t 11 & ANXA1, SLC24A3      & Progenitor Cell     & 0.58 & ANXA1, SLC24A3 & 29802404\\\\\n",
       "\t 9  & TCIM                & Progenitor Cell     & 0.50 & TCIM           & 29802404\\\\\n",
       "\\end{tabular}\n"
      ],
      "text/markdown": [
       "\n",
       "A data.frame: 6 × 6\n",
       "\n",
       "| cluster &lt;chr&gt; | cluster_marker &lt;chr&gt; | cell_type &lt;chr&gt; | celltype_score &lt;dbl&gt; | celltype_related_marker &lt;chr&gt; | PMID &lt;chr&gt; |\n",
       "|---|---|---|---|---|---|\n",
       "| 12 | ASPM                | Progenitor Cell     | 0.58 | ASPM           | 26178168 |\n",
       "| 14 | MAML2, OLR1, RASSF3 | Pit Progenitor Cell | 0.61 | OLR1, RASSF3   | 29802404 |\n",
       "| 7  | CFH, PPP1R14A       | Progenitor Cell     | 0.58 | CFH, PPP1R14A  | 29802404 |\n",
       "| 4  | BCL11A              | Progenitor Cell     | 0.50 | BCL11A         | 29802404 |\n",
       "| 11 | ANXA1, SLC24A3      | Progenitor Cell     | 0.58 | ANXA1, SLC24A3 | 29802404 |\n",
       "| 9  | TCIM                | Progenitor Cell     | 0.50 | TCIM           | 29802404 |\n",
       "\n"
      ],
      "text/plain": [
       "  cluster cluster_marker      cell_type           celltype_score\n",
       "1 12      ASPM                Progenitor Cell     0.58          \n",
       "2 14      MAML2, OLR1, RASSF3 Pit Progenitor Cell 0.61          \n",
       "3 7       CFH, PPP1R14A       Progenitor Cell     0.58          \n",
       "4 4       BCL11A              Progenitor Cell     0.50          \n",
       "5 11      ANXA1, SLC24A3      Progenitor Cell     0.58          \n",
       "6 9       TCIM                Progenitor Cell     0.50          \n",
       "  celltype_related_marker PMID    \n",
       "1 ASPM                    26178168\n",
       "2 OLR1, RASSF3            29802404\n",
       "3 CFH, PPP1R14A           29802404\n",
       "4 BCL11A                  29802404\n",
       "5 ANXA1, SLC24A3          29802404\n",
       "6 TCIM                    29802404"
      ]
     },
     "metadata": {},
     "output_type": "display_data"
    }
   ],
   "source": [
    "scCATCH_obj1@celltype"
   ]
  },
  {
   "cell_type": "markdown",
   "metadata": {},
   "source": [
    "# Save"
   ]
  },
  {
   "cell_type": "code",
   "execution_count": null,
   "metadata": {
    "vscode": {
     "languageId": "r"
    }
   },
   "outputs": [],
   "source": []
  }
 ],
 "metadata": {
  "kernelspec": {
   "display_name": "R 4.1",
   "language": "R",
   "name": "ir41"
  },
  "language_info": {
   "codemirror_mode": "r",
   "file_extension": ".r",
   "mimetype": "text/x-r-source",
   "name": "R",
   "pygments_lexer": "r",
   "version": "4.1.3"
  }
 },
 "nbformat": 4,
 "nbformat_minor": 2
}
