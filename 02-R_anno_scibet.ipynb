{
 "cells": [
  {
   "cell_type": "code",
   "execution_count": 1,
   "metadata": {
    "vscode": {
     "languageId": "r"
    }
   },
   "outputs": [],
   "source": [
    "my_packages <- c(\"data.table\", \"tidyverse\",\n",
    "                 \"edgeR\",\n",
    "                 \"Seurat\", \"scibet\")\n",
    "pacman::p_load(char = my_packages)\n",
    "\n",
    "tmp <- list()"
   ]
  },
  {
   "cell_type": "code",
   "execution_count": 61,
   "metadata": {
    "vscode": {
     "languageId": "r"
    }
   },
   "outputs": [],
   "source": [
    "calCPM <- function(count){\n",
    "    sum_x <- colSums(count)\n",
    "    cpm <- count / sum_x * 1e6\n",
    "    return(cpm)\n",
    "}"
   ]
  },
  {
   "cell_type": "markdown",
   "metadata": {},
   "source": [
    "# Load data"
   ]
  },
  {
   "cell_type": "markdown",
   "metadata": {},
   "source": [
    "Ref"
   ]
  },
  {
   "cell_type": "code",
   "execution_count": 35,
   "metadata": {
    "vscode": {
     "languageId": "r"
    }
   },
   "outputs": [],
   "source": [
    "mat_ref <- Matrix::readMM(\"temp/ref_scibet.mtx\")"
   ]
  },
  {
   "cell_type": "code",
   "execution_count": 41,
   "metadata": {
    "vscode": {
     "languageId": "r"
    }
   },
   "outputs": [
    {
     "data": {
      "text/html": [
       "<style>\n",
       ".list-inline {list-style: none; margin:0; padding: 0}\n",
       ".list-inline>li {display: inline-block}\n",
       ".list-inline>li:not(:last-child)::after {content: \"\\00b7\"; padding: 0 .5ex}\n",
       "</style>\n",
       "<ol class=list-inline><li>36159</li><li>33538</li></ol>\n"
      ],
      "text/latex": [
       "\\begin{enumerate*}\n",
       "\\item 36159\n",
       "\\item 33538\n",
       "\\end{enumerate*}\n"
      ],
      "text/markdown": [
       "1. 36159\n",
       "2. 33538\n",
       "\n",
       "\n"
      ],
      "text/plain": [
       "[1] 36159 33538"
      ]
     },
     "metadata": {},
     "output_type": "display_data"
    }
   ],
   "source": [
    "dim(mat_ref)"
   ]
  },
  {
   "cell_type": "code",
   "execution_count": 51,
   "metadata": {
    "vscode": {
     "languageId": "r"
    }
   },
   "outputs": [],
   "source": [
    "mat_ref_gene <- fread(\"temp/ref_scibet_gene.csv\", header = F)$V1\n",
    "mat_ref_barcode <- fread(\"temp/ref_scibet_cellbarcode.csv\", header = F)$V1\n",
    "mat_ref_label <- fread(\"temp/ref_scibet_label.csv\", header = F)$V1"
   ]
  },
  {
   "cell_type": "code",
   "execution_count": 43,
   "metadata": {
    "vscode": {
     "languageId": "r"
    }
   },
   "outputs": [
    {
     "name": "stderr",
     "output_type": "stream",
     "text": [
      "Warning message in asMethod(object):\n",
      "“sparse->dense coercion: allocating vector of size 9.0 GiB”\n"
     ]
    }
   ],
   "source": [
    "mat_ref <- as.matrix(mat_ref)\n",
    "mat_ref <- t(mat_ref)"
   ]
  },
  {
   "cell_type": "code",
   "execution_count": 52,
   "metadata": {
    "vscode": {
     "languageId": "r"
    }
   },
   "outputs": [],
   "source": [
    "rownames(mat_ref) <- mat_ref_gene\n",
    "colnames(mat_ref) <- mat_ref_barcode"
   ]
  },
  {
   "cell_type": "code",
   "execution_count": 46,
   "metadata": {
    "vscode": {
     "languageId": "r"
    }
   },
   "outputs": [
    {
     "data": {
      "text/html": [
       "194"
      ],
      "text/latex": [
       "194"
      ],
      "text/markdown": [
       "194"
      ],
      "text/plain": [
       "[1] 194"
      ]
     },
     "metadata": {},
     "output_type": "display_data"
    }
   ],
   "source": [
    "max(mat_ref[,1])"
   ]
  },
  {
   "cell_type": "markdown",
   "metadata": {},
   "source": [
    "test"
   ]
  },
  {
   "cell_type": "code",
   "execution_count": 38,
   "metadata": {
    "vscode": {
     "languageId": "r"
    }
   },
   "outputs": [],
   "source": [
    "mat_test <- Matrix::readMM(\"temp/adata_hvg_scibet.mtx\")"
   ]
  },
  {
   "cell_type": "code",
   "execution_count": 40,
   "metadata": {
    "vscode": {
     "languageId": "r"
    }
   },
   "outputs": [
    {
     "data": {
      "text/html": [
       "<style>\n",
       ".list-inline {list-style: none; margin:0; padding: 0}\n",
       ".list-inline>li {display: inline-block}\n",
       ".list-inline>li:not(:last-child)::after {content: \"\\00b7\"; padding: 0 .5ex}\n",
       "</style>\n",
       "<ol class=list-inline><li>834360</li><li>3000</li></ol>\n"
      ],
      "text/latex": [
       "\\begin{enumerate*}\n",
       "\\item 834360\n",
       "\\item 3000\n",
       "\\end{enumerate*}\n"
      ],
      "text/markdown": [
       "1. 834360\n",
       "2. 3000\n",
       "\n",
       "\n"
      ],
      "text/plain": [
       "[1] 834360   3000"
      ]
     },
     "metadata": {},
     "output_type": "display_data"
    }
   ],
   "source": [
    "dim(mat_test)"
   ]
  },
  {
   "cell_type": "code",
   "execution_count": 54,
   "metadata": {
    "vscode": {
     "languageId": "r"
    }
   },
   "outputs": [],
   "source": [
    "mat_test_barcode <- fread(\"temp/adata_hvg_scibet_cellbarcode.csv\", header = F)$V1\n",
    "mat_test_gene <- fread(\"temp/adata_hvg_scibet_gene.csv\", header = F)$V1"
   ]
  },
  {
   "cell_type": "code",
   "execution_count": 44,
   "metadata": {
    "vscode": {
     "languageId": "r"
    }
   },
   "outputs": [
    {
     "name": "stderr",
     "output_type": "stream",
     "text": [
      "Warning message in asMethod(object):\n",
      "“sparse->dense coercion: allocating vector of size 18.6 GiB”\n"
     ]
    }
   ],
   "source": [
    "mat_test <- as.matrix(mat_test)\n",
    "mat_test <- t(mat_test)"
   ]
  },
  {
   "cell_type": "code",
   "execution_count": 55,
   "metadata": {
    "vscode": {
     "languageId": "r"
    }
   },
   "outputs": [],
   "source": [
    "rownames(mat_test) <- mat_test_gene\n",
    "colnames(mat_test) <- mat_test_barcode"
   ]
  },
  {
   "cell_type": "markdown",
   "metadata": {},
   "source": [
    "# to cpm"
   ]
  },
  {
   "cell_type": "code",
   "execution_count": 56,
   "metadata": {
    "vscode": {
     "languageId": "r"
    }
   },
   "outputs": [
    {
     "data": {
      "text/html": [
       "<table class=\"dataframe\">\n",
       "<caption>A matrix: 10 × 10 of type dbl</caption>\n",
       "<thead>\n",
       "\t<tr><th></th><th scope=col>AAAGAACCAATTGCAC-1</th><th scope=col>AAAGGATGTCCCTCAT-1</th><th scope=col>AAAGGTACATTCACCC-1</th><th scope=col>AAAGTGACACCCAAGC-1</th><th scope=col>AAATGGAGTGACCGTC-1</th><th scope=col>AACAAAGGTCGGATTT-1</th><th scope=col>AACAAAGTCCACTAGA-1</th><th scope=col>AACAAGACACTTGTGA-1</th><th scope=col>AACCAACGTGTGAGCA-1</th><th scope=col>AACCAACTCAACTGGT-1</th></tr>\n",
       "</thead>\n",
       "<tbody>\n",
       "\t<tr><th scope=row>HES4</th><td>0</td><td>0</td><td>0</td><td>0</td><td>0</td><td>0</td><td>0</td><td>0</td><td>0</td><td>0</td></tr>\n",
       "\t<tr><th scope=row>ISG15</th><td>0</td><td>0</td><td>0</td><td>0</td><td>0</td><td>0</td><td>0</td><td>0</td><td>0</td><td>0</td></tr>\n",
       "\t<tr><th scope=row>TNFRSF18</th><td>0</td><td>0</td><td>0</td><td>0</td><td>0</td><td>0</td><td>0</td><td>0</td><td>0</td><td>0</td></tr>\n",
       "\t<tr><th scope=row>TNFRSF4</th><td>0</td><td>0</td><td>0</td><td>0</td><td>0</td><td>0</td><td>2</td><td>0</td><td>0</td><td>0</td></tr>\n",
       "\t<tr><th scope=row>MXRA8</th><td>0</td><td>0</td><td>0</td><td>0</td><td>0</td><td>0</td><td>0</td><td>0</td><td>0</td><td>0</td></tr>\n",
       "\t<tr><th scope=row>VWA1</th><td>0</td><td>0</td><td>0</td><td>0</td><td>0</td><td>0</td><td>0</td><td>0</td><td>0</td><td>0</td></tr>\n",
       "\t<tr><th scope=row>PRDM16</th><td>0</td><td>0</td><td>0</td><td>0</td><td>0</td><td>0</td><td>0</td><td>0</td><td>0</td><td>0</td></tr>\n",
       "\t<tr><th scope=row>TNFRSF9</th><td>0</td><td>0</td><td>0</td><td>0</td><td>0</td><td>0</td><td>0</td><td>0</td><td>0</td><td>0</td></tr>\n",
       "\t<tr><th scope=row>ERRFI1</th><td>0</td><td>0</td><td>0</td><td>0</td><td>0</td><td>0</td><td>0</td><td>0</td><td>0</td><td>0</td></tr>\n",
       "\t<tr><th scope=row>SLC2A5</th><td>0</td><td>0</td><td>0</td><td>0</td><td>0</td><td>0</td><td>0</td><td>0</td><td>0</td><td>0</td></tr>\n",
       "</tbody>\n",
       "</table>\n"
      ],
      "text/latex": [
       "A matrix: 10 × 10 of type dbl\n",
       "\\begin{tabular}{r|llllllllll}\n",
       "  & AAAGAACCAATTGCAC-1 & AAAGGATGTCCCTCAT-1 & AAAGGTACATTCACCC-1 & AAAGTGACACCCAAGC-1 & AAATGGAGTGACCGTC-1 & AACAAAGGTCGGATTT-1 & AACAAAGTCCACTAGA-1 & AACAAGACACTTGTGA-1 & AACCAACGTGTGAGCA-1 & AACCAACTCAACTGGT-1\\\\\n",
       "\\hline\n",
       "\tHES4 & 0 & 0 & 0 & 0 & 0 & 0 & 0 & 0 & 0 & 0\\\\\n",
       "\tISG15 & 0 & 0 & 0 & 0 & 0 & 0 & 0 & 0 & 0 & 0\\\\\n",
       "\tTNFRSF18 & 0 & 0 & 0 & 0 & 0 & 0 & 0 & 0 & 0 & 0\\\\\n",
       "\tTNFRSF4 & 0 & 0 & 0 & 0 & 0 & 0 & 2 & 0 & 0 & 0\\\\\n",
       "\tMXRA8 & 0 & 0 & 0 & 0 & 0 & 0 & 0 & 0 & 0 & 0\\\\\n",
       "\tVWA1 & 0 & 0 & 0 & 0 & 0 & 0 & 0 & 0 & 0 & 0\\\\\n",
       "\tPRDM16 & 0 & 0 & 0 & 0 & 0 & 0 & 0 & 0 & 0 & 0\\\\\n",
       "\tTNFRSF9 & 0 & 0 & 0 & 0 & 0 & 0 & 0 & 0 & 0 & 0\\\\\n",
       "\tERRFI1 & 0 & 0 & 0 & 0 & 0 & 0 & 0 & 0 & 0 & 0\\\\\n",
       "\tSLC2A5 & 0 & 0 & 0 & 0 & 0 & 0 & 0 & 0 & 0 & 0\\\\\n",
       "\\end{tabular}\n"
      ],
      "text/markdown": [
       "\n",
       "A matrix: 10 × 10 of type dbl\n",
       "\n",
       "| <!--/--> | AAAGAACCAATTGCAC-1 | AAAGGATGTCCCTCAT-1 | AAAGGTACATTCACCC-1 | AAAGTGACACCCAAGC-1 | AAATGGAGTGACCGTC-1 | AACAAAGGTCGGATTT-1 | AACAAAGTCCACTAGA-1 | AACAAGACACTTGTGA-1 | AACCAACGTGTGAGCA-1 | AACCAACTCAACTGGT-1 |\n",
       "|---|---|---|---|---|---|---|---|---|---|---|\n",
       "| HES4 | 0 | 0 | 0 | 0 | 0 | 0 | 0 | 0 | 0 | 0 |\n",
       "| ISG15 | 0 | 0 | 0 | 0 | 0 | 0 | 0 | 0 | 0 | 0 |\n",
       "| TNFRSF18 | 0 | 0 | 0 | 0 | 0 | 0 | 0 | 0 | 0 | 0 |\n",
       "| TNFRSF4 | 0 | 0 | 0 | 0 | 0 | 0 | 2 | 0 | 0 | 0 |\n",
       "| MXRA8 | 0 | 0 | 0 | 0 | 0 | 0 | 0 | 0 | 0 | 0 |\n",
       "| VWA1 | 0 | 0 | 0 | 0 | 0 | 0 | 0 | 0 | 0 | 0 |\n",
       "| PRDM16 | 0 | 0 | 0 | 0 | 0 | 0 | 0 | 0 | 0 | 0 |\n",
       "| TNFRSF9 | 0 | 0 | 0 | 0 | 0 | 0 | 0 | 0 | 0 | 0 |\n",
       "| ERRFI1 | 0 | 0 | 0 | 0 | 0 | 0 | 0 | 0 | 0 | 0 |\n",
       "| SLC2A5 | 0 | 0 | 0 | 0 | 0 | 0 | 0 | 0 | 0 | 0 |\n",
       "\n"
      ],
      "text/plain": [
       "         AAAGAACCAATTGCAC-1 AAAGGATGTCCCTCAT-1 AAAGGTACATTCACCC-1\n",
       "HES4     0                  0                  0                 \n",
       "ISG15    0                  0                  0                 \n",
       "TNFRSF18 0                  0                  0                 \n",
       "TNFRSF4  0                  0                  0                 \n",
       "MXRA8    0                  0                  0                 \n",
       "VWA1     0                  0                  0                 \n",
       "PRDM16   0                  0                  0                 \n",
       "TNFRSF9  0                  0                  0                 \n",
       "ERRFI1   0                  0                  0                 \n",
       "SLC2A5   0                  0                  0                 \n",
       "         AAAGTGACACCCAAGC-1 AAATGGAGTGACCGTC-1 AACAAAGGTCGGATTT-1\n",
       "HES4     0                  0                  0                 \n",
       "ISG15    0                  0                  0                 \n",
       "TNFRSF18 0                  0                  0                 \n",
       "TNFRSF4  0                  0                  0                 \n",
       "MXRA8    0                  0                  0                 \n",
       "VWA1     0                  0                  0                 \n",
       "PRDM16   0                  0                  0                 \n",
       "TNFRSF9  0                  0                  0                 \n",
       "ERRFI1   0                  0                  0                 \n",
       "SLC2A5   0                  0                  0                 \n",
       "         AACAAAGTCCACTAGA-1 AACAAGACACTTGTGA-1 AACCAACGTGTGAGCA-1\n",
       "HES4     0                  0                  0                 \n",
       "ISG15    0                  0                  0                 \n",
       "TNFRSF18 0                  0                  0                 \n",
       "TNFRSF4  2                  0                  0                 \n",
       "MXRA8    0                  0                  0                 \n",
       "VWA1     0                  0                  0                 \n",
       "PRDM16   0                  0                  0                 \n",
       "TNFRSF9  0                  0                  0                 \n",
       "ERRFI1   0                  0                  0                 \n",
       "SLC2A5   0                  0                  0                 \n",
       "         AACCAACTCAACTGGT-1\n",
       "HES4     0                 \n",
       "ISG15    0                 \n",
       "TNFRSF18 0                 \n",
       "TNFRSF4  0                 \n",
       "MXRA8    0                 \n",
       "VWA1     0                 \n",
       "PRDM16   0                 \n",
       "TNFRSF9  0                 \n",
       "ERRFI1   0                 \n",
       "SLC2A5   0                 "
      ]
     },
     "metadata": {},
     "output_type": "display_data"
    }
   ],
   "source": [
    "mat_test[1:10,1:10]"
   ]
  },
  {
   "cell_type": "code",
   "execution_count": 50,
   "metadata": {
    "vscode": {
     "languageId": "r"
    }
   },
   "outputs": [
    {
     "data": {
      "text/html": [
       "<table class=\"dataframe\">\n",
       "<caption>A matrix: 10 × 10 of type dbl</caption>\n",
       "<thead>\n",
       "\t<tr><th></th><th scope=col>AAACCTGAGTGCGTGA-1</th><th scope=col>AAACGGGAGCTGCCCA-1</th><th scope=col>AAAGATGAGTGGACGT-1</th><th scope=col>AAAGTAGCACGCCAGT-1</th><th scope=col>AAATGCCTCTATCCCG-1</th><th scope=col>AACGTTGGTGCACGAA-1</th><th scope=col>AACTCCCAGCATCATC-1</th><th scope=col>AACTCCCAGCTAGGCA-1</th><th scope=col>AACTGGTCACGGTTTA-1</th><th scope=col>AAGCCGCCACCTATCC-1</th></tr>\n",
       "</thead>\n",
       "<tbody>\n",
       "\t<tr><th scope=row>MIR1302-2HG</th><td>0</td><td>0</td><td>0</td><td>0</td><td>0</td><td>0</td><td>0</td><td>0</td><td>0</td><td>0</td></tr>\n",
       "\t<tr><th scope=row>FAM138A</th><td>0</td><td>0</td><td>0</td><td>0</td><td>0</td><td>0</td><td>0</td><td>0</td><td>0</td><td>0</td></tr>\n",
       "\t<tr><th scope=row>OR4F5</th><td>0</td><td>0</td><td>0</td><td>0</td><td>0</td><td>0</td><td>0</td><td>0</td><td>0</td><td>0</td></tr>\n",
       "\t<tr><th scope=row>AL627309.1</th><td>0</td><td>0</td><td>0</td><td>0</td><td>0</td><td>0</td><td>0</td><td>0</td><td>0</td><td>0</td></tr>\n",
       "\t<tr><th scope=row>AL627309.3</th><td>0</td><td>0</td><td>0</td><td>0</td><td>0</td><td>0</td><td>0</td><td>0</td><td>0</td><td>0</td></tr>\n",
       "\t<tr><th scope=row>AL627309.2</th><td>0</td><td>0</td><td>0</td><td>0</td><td>0</td><td>0</td><td>0</td><td>0</td><td>0</td><td>0</td></tr>\n",
       "\t<tr><th scope=row>AL627309.4</th><td>0</td><td>0</td><td>0</td><td>0</td><td>0</td><td>0</td><td>0</td><td>0</td><td>0</td><td>0</td></tr>\n",
       "\t<tr><th scope=row>AL732372.1</th><td>0</td><td>0</td><td>0</td><td>0</td><td>0</td><td>0</td><td>0</td><td>0</td><td>0</td><td>0</td></tr>\n",
       "\t<tr><th scope=row>OR4F29</th><td>0</td><td>0</td><td>0</td><td>0</td><td>0</td><td>0</td><td>0</td><td>0</td><td>0</td><td>0</td></tr>\n",
       "\t<tr><th scope=row>AC114498.1</th><td>0</td><td>0</td><td>0</td><td>0</td><td>0</td><td>0</td><td>0</td><td>0</td><td>0</td><td>0</td></tr>\n",
       "</tbody>\n",
       "</table>\n"
      ],
      "text/latex": [
       "A matrix: 10 × 10 of type dbl\n",
       "\\begin{tabular}{r|llllllllll}\n",
       "  & AAACCTGAGTGCGTGA-1 & AAACGGGAGCTGCCCA-1 & AAAGATGAGTGGACGT-1 & AAAGTAGCACGCCAGT-1 & AAATGCCTCTATCCCG-1 & AACGTTGGTGCACGAA-1 & AACTCCCAGCATCATC-1 & AACTCCCAGCTAGGCA-1 & AACTGGTCACGGTTTA-1 & AAGCCGCCACCTATCC-1\\\\\n",
       "\\hline\n",
       "\tMIR1302-2HG & 0 & 0 & 0 & 0 & 0 & 0 & 0 & 0 & 0 & 0\\\\\n",
       "\tFAM138A & 0 & 0 & 0 & 0 & 0 & 0 & 0 & 0 & 0 & 0\\\\\n",
       "\tOR4F5 & 0 & 0 & 0 & 0 & 0 & 0 & 0 & 0 & 0 & 0\\\\\n",
       "\tAL627309.1 & 0 & 0 & 0 & 0 & 0 & 0 & 0 & 0 & 0 & 0\\\\\n",
       "\tAL627309.3 & 0 & 0 & 0 & 0 & 0 & 0 & 0 & 0 & 0 & 0\\\\\n",
       "\tAL627309.2 & 0 & 0 & 0 & 0 & 0 & 0 & 0 & 0 & 0 & 0\\\\\n",
       "\tAL627309.4 & 0 & 0 & 0 & 0 & 0 & 0 & 0 & 0 & 0 & 0\\\\\n",
       "\tAL732372.1 & 0 & 0 & 0 & 0 & 0 & 0 & 0 & 0 & 0 & 0\\\\\n",
       "\tOR4F29 & 0 & 0 & 0 & 0 & 0 & 0 & 0 & 0 & 0 & 0\\\\\n",
       "\tAC114498.1 & 0 & 0 & 0 & 0 & 0 & 0 & 0 & 0 & 0 & 0\\\\\n",
       "\\end{tabular}\n"
      ],
      "text/markdown": [
       "\n",
       "A matrix: 10 × 10 of type dbl\n",
       "\n",
       "| <!--/--> | AAACCTGAGTGCGTGA-1 | AAACGGGAGCTGCCCA-1 | AAAGATGAGTGGACGT-1 | AAAGTAGCACGCCAGT-1 | AAATGCCTCTATCCCG-1 | AACGTTGGTGCACGAA-1 | AACTCCCAGCATCATC-1 | AACTCCCAGCTAGGCA-1 | AACTGGTCACGGTTTA-1 | AAGCCGCCACCTATCC-1 |\n",
       "|---|---|---|---|---|---|---|---|---|---|---|\n",
       "| MIR1302-2HG | 0 | 0 | 0 | 0 | 0 | 0 | 0 | 0 | 0 | 0 |\n",
       "| FAM138A | 0 | 0 | 0 | 0 | 0 | 0 | 0 | 0 | 0 | 0 |\n",
       "| OR4F5 | 0 | 0 | 0 | 0 | 0 | 0 | 0 | 0 | 0 | 0 |\n",
       "| AL627309.1 | 0 | 0 | 0 | 0 | 0 | 0 | 0 | 0 | 0 | 0 |\n",
       "| AL627309.3 | 0 | 0 | 0 | 0 | 0 | 0 | 0 | 0 | 0 | 0 |\n",
       "| AL627309.2 | 0 | 0 | 0 | 0 | 0 | 0 | 0 | 0 | 0 | 0 |\n",
       "| AL627309.4 | 0 | 0 | 0 | 0 | 0 | 0 | 0 | 0 | 0 | 0 |\n",
       "| AL732372.1 | 0 | 0 | 0 | 0 | 0 | 0 | 0 | 0 | 0 | 0 |\n",
       "| OR4F29 | 0 | 0 | 0 | 0 | 0 | 0 | 0 | 0 | 0 | 0 |\n",
       "| AC114498.1 | 0 | 0 | 0 | 0 | 0 | 0 | 0 | 0 | 0 | 0 |\n",
       "\n"
      ],
      "text/plain": [
       "            AAACCTGAGTGCGTGA-1 AAACGGGAGCTGCCCA-1 AAAGATGAGTGGACGT-1\n",
       "MIR1302-2HG 0                  0                  0                 \n",
       "FAM138A     0                  0                  0                 \n",
       "OR4F5       0                  0                  0                 \n",
       "AL627309.1  0                  0                  0                 \n",
       "AL627309.3  0                  0                  0                 \n",
       "AL627309.2  0                  0                  0                 \n",
       "AL627309.4  0                  0                  0                 \n",
       "AL732372.1  0                  0                  0                 \n",
       "OR4F29      0                  0                  0                 \n",
       "AC114498.1  0                  0                  0                 \n",
       "            AAAGTAGCACGCCAGT-1 AAATGCCTCTATCCCG-1 AACGTTGGTGCACGAA-1\n",
       "MIR1302-2HG 0                  0                  0                 \n",
       "FAM138A     0                  0                  0                 \n",
       "OR4F5       0                  0                  0                 \n",
       "AL627309.1  0                  0                  0                 \n",
       "AL627309.3  0                  0                  0                 \n",
       "AL627309.2  0                  0                  0                 \n",
       "AL627309.4  0                  0                  0                 \n",
       "AL732372.1  0                  0                  0                 \n",
       "OR4F29      0                  0                  0                 \n",
       "AC114498.1  0                  0                  0                 \n",
       "            AACTCCCAGCATCATC-1 AACTCCCAGCTAGGCA-1 AACTGGTCACGGTTTA-1\n",
       "MIR1302-2HG 0                  0                  0                 \n",
       "FAM138A     0                  0                  0                 \n",
       "OR4F5       0                  0                  0                 \n",
       "AL627309.1  0                  0                  0                 \n",
       "AL627309.3  0                  0                  0                 \n",
       "AL627309.2  0                  0                  0                 \n",
       "AL627309.4  0                  0                  0                 \n",
       "AL732372.1  0                  0                  0                 \n",
       "OR4F29      0                  0                  0                 \n",
       "AC114498.1  0                  0                  0                 \n",
       "            AAGCCGCCACCTATCC-1\n",
       "MIR1302-2HG 0                 \n",
       "FAM138A     0                 \n",
       "OR4F5       0                 \n",
       "AL627309.1  0                 \n",
       "AL627309.3  0                 \n",
       "AL627309.2  0                 \n",
       "AL627309.4  0                 \n",
       "AL732372.1  0                 \n",
       "OR4F29      0                 \n",
       "AC114498.1  0                 "
      ]
     },
     "metadata": {},
     "output_type": "display_data"
    }
   ],
   "source": [
    "mat_ref[1:10,1:10]"
   ]
  },
  {
   "cell_type": "code",
   "execution_count": 63,
   "metadata": {
    "vscode": {
     "languageId": "r"
    }
   },
   "outputs": [],
   "source": [
    "mat_test2 <- calCPM(mat_test)"
   ]
  },
  {
   "cell_type": "code",
   "execution_count": 68,
   "metadata": {
    "vscode": {
     "languageId": "r"
    }
   },
   "outputs": [
    {
     "data": {
      "text/html": [
       "355263.157894737"
      ],
      "text/latex": [
       "355263.157894737"
      ],
      "text/markdown": [
       "355263.157894737"
      ],
      "text/plain": [
       "[1] 355263.2"
      ]
     },
     "metadata": {},
     "output_type": "display_data"
    }
   ],
   "source": [
    "max(mat_test2[1,])"
   ]
  },
  {
   "cell_type": "code",
   "execution_count": 64,
   "metadata": {
    "vscode": {
     "languageId": "r"
    }
   },
   "outputs": [],
   "source": [
    "mat_ref2 <- calCPM(mat_ref)"
   ]
  },
  {
   "cell_type": "markdown",
   "metadata": {},
   "source": [
    "# Scibet"
   ]
  },
  {
   "cell_type": "code",
   "execution_count": 69,
   "metadata": {
    "vscode": {
     "languageId": "r"
    }
   },
   "outputs": [
    {
     "name": "stderr",
     "output_type": "stream",
     "text": [
      "Warning message:\n",
      "“\u001b[1m\u001b[22m`as.tibble()` was deprecated in tibble 2.0.0.\n",
      "\u001b[36mℹ\u001b[39m Please use `as_tibble()` instead.\n",
      "\u001b[36mℹ\u001b[39m The signature and semantics have changed, see `?as_tibble`.”\n"
     ]
    }
   ],
   "source": [
    "mat_ref2 <- as.tibble(t(mat_ref2))\n",
    "mat_ref2$label <- mat_ref_label"
   ]
  },
  {
   "cell_type": "code",
   "execution_count": 70,
   "metadata": {
    "vscode": {
     "languageId": "r"
    }
   },
   "outputs": [],
   "source": [
    "mat_test2 <- as.tibble(t(mat_test2))"
   ]
  },
  {
   "cell_type": "code",
   "execution_count": 71,
   "metadata": {
    "vscode": {
     "languageId": "r"
    }
   },
   "outputs": [],
   "source": [
    "prd <- SciBet(mat_ref2, mat_test2)"
   ]
  },
  {
   "cell_type": "code",
   "execution_count": 72,
   "metadata": {
    "vscode": {
     "languageId": "r"
    }
   },
   "outputs": [
    {
     "data": {
      "text/plain": [
       "prd\n",
       "          B         CD4         CD8          DC endothelial  epithelial \n",
       "     101255       85694      109430        5616       17353      129200 \n",
       "fibroblasts  macrophage        mast          NK   pericytes      plasma \n",
       "      30461       95038       12830       80476       13938      114829 \n",
       "       Treg \n",
       "      38240 "
      ]
     },
     "metadata": {},
     "output_type": "display_data"
    }
   ],
   "source": [
    "table(prd)"
   ]
  },
  {
   "cell_type": "markdown",
   "metadata": {},
   "source": [
    "# Save"
   ]
  },
  {
   "cell_type": "code",
   "execution_count": 131,
   "metadata": {
    "vscode": {
     "languageId": "r"
    }
   },
   "outputs": [],
   "source": [
    "fwrite(data.frame(label = prd), file = \"Output/02/scibet_result.csv\")"
   ]
  },
  {
   "cell_type": "code",
   "execution_count": null,
   "metadata": {
    "vscode": {
     "languageId": "r"
    }
   },
   "outputs": [],
   "source": []
  }
 ],
 "metadata": {
  "kernelspec": {
   "display_name": "R 4.1",
   "language": "R",
   "name": "ir41"
  },
  "language_info": {
   "codemirror_mode": "r",
   "file_extension": ".r",
   "mimetype": "text/x-r-source",
   "name": "R",
   "pygments_lexer": "r",
   "version": "4.1.3"
  }
 },
 "nbformat": 4,
 "nbformat_minor": 2
}
