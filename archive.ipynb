{
 "cells": [
  {
   "cell_type": "code",
   "execution_count": null,
   "metadata": {},
   "outputs": [],
   "source": []
  },
  {
   "cell_type": "markdown",
   "metadata": {},
   "source": [
    "## scCATCH"
   ]
  },
  {
   "cell_type": "markdown",
   "metadata": {},
   "source": [
    "- [scCATCH tutorial](https://raw.githack.com/ZJUFanLab/scCATCH_performance_comparison/master/scCATCH/tutorial.html)\n",
    "- [ZJUFanLab/scCATCH: Automatic Annotation on Cell Types of Clusters from Single-Cell RNA Sequencing Data](https://github.com/ZJUFanLab/scCATCH)"
   ]
  },
  {
   "cell_type": "markdown",
   "metadata": {},
   "source": [
    "### Input"
   ]
  },
  {
   "cell_type": "code",
   "execution_count": null,
   "metadata": {},
   "outputs": [
    {
     "name": "stdout",
     "output_type": "stream",
     "text": [
      "If you pass `n_top_genes`, all cutoffs are ignored.\n",
      "extracting highly variable genes\n",
      "    finished (0:01:55)\n"
     ]
    }
   ],
   "source": [
    "sc.pp.highly_variable_genes(\n",
    "    adata, n_top_genes=5000, batch_key = \"batch\", flavor=\"seurat\"\n",
    ")"
   ]
  },
  {
   "cell_type": "code",
   "execution_count": null,
   "metadata": {},
   "outputs": [],
   "source": [
    "sio.mmwrite('temp/adata_hvg_scCATCH.mtx', adata[:, adata.var.highly_variable].X)"
   ]
  },
  {
   "cell_type": "code",
   "execution_count": null,
   "metadata": {},
   "outputs": [],
   "source": [
    "handler = gzip.open(\"Data/SCSA/whole_v2.db\",\"rb\")"
   ]
  },
  {
   "cell_type": "code",
   "execution_count": null,
   "metadata": {},
   "outputs": [],
   "source": [
    "gos = load(handler)\n",
    "human_gofs = load(handler)\n",
    "mouse_gofs = load(handler)\n",
    "cmarkers = load(handler)"
   ]
  },
  {
   "cell_type": "code",
   "execution_count": null,
   "metadata": {},
   "outputs": [],
   "source": [
    "cmarkers.to_csv(\"Data/SCSA/cmarkerv2.csv\") # CellMarker database v2"
   ]
  }
 ],
 "metadata": {
  "language_info": {
   "name": "python"
  }
 },
 "nbformat": 4,
 "nbformat_minor": 2
}
